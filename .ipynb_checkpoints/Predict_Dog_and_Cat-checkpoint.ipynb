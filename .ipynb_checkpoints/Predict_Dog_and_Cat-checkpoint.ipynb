{
 "cells": [
  {
   "cell_type": "code",
   "execution_count": 34,
   "id": "ecc4107f",
   "metadata": {},
   "outputs": [],
   "source": [
    "import numpy\n",
    "from tensorflow.keras.preprocessing import image\n",
    "from PIL import ImageTk, Image\n",
    "from tensorflow.keras.models import load_model"
   ]
  },
  {
   "cell_type": "code",
   "execution_count": 35,
   "id": "38255b9f",
   "metadata": {},
   "outputs": [],
   "source": [
    "model = load_model(filepath=\"model1_catsVSdogs_10epoch.h5\")"
   ]
  },
  {
   "cell_type": "code",
   "execution_count": 40,
   "id": "0615e58c",
   "metadata": {},
   "outputs": [],
   "source": [
    "img_path = \"./dogs-vs-cats/test/1.jpg\""
   ]
  },
  {
   "cell_type": "code",
   "execution_count": 37,
   "id": "1fbe58c1",
   "metadata": {},
   "outputs": [],
   "source": [
    "def predict_dog_or_cat(path, model):\n",
    "    image = Image.open(path)\n",
    "    image = image.resize((128,128))\n",
    "    image = numpy.expand_dims(image, axis=0)\n",
    "    image = numpy.array(image)\n",
    "    image = image/255\n",
    "    pred = model.predict_classes(image)[0]\n",
    "    return pred"
   ]
  },
  {
   "cell_type": "code",
   "execution_count": 41,
   "id": "fd603c16",
   "metadata": {},
   "outputs": [
    {
     "data": {
      "text/plain": [
       "1"
      ]
     },
     "execution_count": 41,
     "metadata": {},
     "output_type": "execute_result"
    }
   ],
   "source": [
    "predict_dog_or_cat(img_path, model)"
   ]
  }
 ],
 "metadata": {
  "kernelspec": {
   "display_name": "Python 3 (ipykernel)",
   "language": "python",
   "name": "python3"
  },
  "language_info": {
   "codemirror_mode": {
    "name": "ipython",
    "version": 3
   },
   "file_extension": ".py",
   "mimetype": "text/x-python",
   "name": "python",
   "nbconvert_exporter": "python",
   "pygments_lexer": "ipython3",
   "version": "3.9.12"
  }
 },
 "nbformat": 4,
 "nbformat_minor": 5
}
